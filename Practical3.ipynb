{
 "cells": [
  {
   "cell_type": "markdown",
   "id": "249b4217",
   "metadata": {},
   "source": [
    "# N-Queens Problem\n",
    "This notebook demonstrates the solution to the N-Queens problem using backtracking."
   ]
  },
  {
   "cell_type": "code",
   "execution_count": null,
   "id": "a221a925",
   "metadata": {},
   "outputs": [],
   "source": [
    "def print_solution(board):\n",
    "    for row in board:\n",
    "        print(\" \".join(\"Q\" if col else \".\" for col in row))\n",
    "    print()\n",
    "\n",
    "def is_safe(board, row, col, n):\n",
    "    for i in range(col):\n",
    "        if board[row][i]:\n",
    "            return False\n",
    "    for i, j in zip(range(row, -1, -1), range(col, -1, -1)):\n",
    "        if board[i][j]:\n",
    "            return False\n",
    "    for i, j in zip(range(row, n), range(col, -1, -1)):\n",
    "        if board[i][j]:\n",
    "            return False\n",
    "    return True\n",
    "\n",
    "def solve_n_queens_util(board, col, n):\n",
    "    if col >= n:\n",
    "        print_solution(board)\n",
    "        return True\n",
    "    res = False\n",
    "    for i in range(n):\n",
    "        if is_safe(board, i, col, n):\n",
    "            board[i][col] = 1\n",
    "            res = solve_n_queens_util(board, col + 1, n) or res\n",
    "            board[i][col] = 0\n",
    "    return res\n",
    "\n",
    "def solve_n_queens(n):\n",
    "    board = [[0] * n for _ in range(n)]\n",
    "    if not solve_n_queens_util(board, 0, n):\n",
    "        print(\"No solution exists\")\n",
    "\n",
    "n = 8\n",
    "solve_n_queens(n)"
   ]
  }
 ],
 "metadata": {
  "language_info": {
   "name": "python"
  }
 },
 "nbformat": 4,
 "nbformat_minor": 5
}
