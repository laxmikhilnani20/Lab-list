{
 "cells": [
  {
   "cell_type": "markdown",
   "id": "b9236f38",
   "metadata": {},
   "source": [
    "# Tic-Tac-Toe Game\n",
    "This notebook implements a simple Tic-Tac-Toe game for two players."
   ]
  },
  {
   "cell_type": "code",
   "execution_count": null,
   "id": "28bdbf66",
   "metadata": {},
   "outputs": [],
   "source": [
    "def print_board(board):\n",
    "    for row in board:\n",
    "        print(\" | \".join(row))\n",
    "        print(\"-\" * 5)\n",
    "\n",
    "def check_winner(board):\n",
    "    for row in board:\n",
    "        if row[0] == row[1] == row[2] != ' ':\n",
    "            return row[0]\n",
    "    for col in range(3):\n",
    "        if board[0][col] == board[1][col] == board[2][col] != ' ':\n",
    "            return board[0][col]\n",
    "    if board[0][0] == board[1][1] == board[2][2] != ' ':\n",
    "        return board[0][0]\n",
    "    if board[0][2] == board[1][1] == board[2][0] != ' ':\n",
    "        return board[0][2]\n",
    "    return None\n",
    "\n",
    "def is_full(board):\n",
    "    return all(cell != ' ' for row in board for cell in row)\n",
    "\n",
    "def tic_tac_toe():\n",
    "    board = [[' '] * 3 for _ in range(3)]\n",
    "    player = 'X'\n",
    "    while True:\n",
    "        print_board(board)\n",
    "        row, col = map(int, input(f\"Player {player}, enter your move (row and column): \").split())\n",
    "        if board[row][col] == ' ':\n",
    "            board[row][col] = player\n",
    "            winner = check_winner(board)\n",
    "            if winner:\n",
    "                print_board(board)\n",
    "                print(f\"Player {winner} wins!\")\n",
    "                break\n",
    "            if is_full(board):\n",
    "                print_board(board)\n",
    "                print(\"It's a draw!\")\n",
    "                break\n",
    "            player = 'O' if player == 'X' else 'X'\n",
    "        else:\n",
    "            print(\"Invalid move. Try again.\")\n",
    "\n",
    "tic_tac_toe()"
   ]
  }
 ],
 "metadata": {
  "language_info": {
   "name": "python"
  }
 },
 "nbformat": 4,
 "nbformat_minor": 5
}
