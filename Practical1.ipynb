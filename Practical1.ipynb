{
 "cells": [
  {
   "cell_type": "code",
   "execution_count": 1,
   "metadata": {},
   "outputs": [
    {
     "name": "stdout",
     "output_type": "stream",
     "text": [
      "BFS: [0, 1, 2, 3, 4, 5]\n"
     ]
    }
   ],
   "source": [
    "#BFS\n",
    "def bfs_matrix(matrix, start):\n",
    "    visited = [False] * len(matrix) \n",
    "    queue = [start] \n",
    "    bfs_order = []\n",
    "    while queue:\n",
    "        node = queue.pop(0)\n",
    "        if not visited[node]:\n",
    "            visited[node] = True  \n",
    "            bfs_order.append(node)\n",
    "            for neighbor, is_connected in enumerate(matrix[node]):\n",
    "                if is_connected and not visited[neighbor]:\n",
    "                    queue.append(neighbor)\n",
    "    return bfs_order\n",
    "matrix = [\n",
    "    [0, 1, 1, 0, 0, 0],  # A -> B, C\n",
    "    [1, 0, 0, 1, 1, 0],  # B -> A, D, E\n",
    "    [1, 0, 0, 0, 0, 1],  # C -> A, F\n",
    "    [0, 1, 0, 0, 0, 0],  # D -> B\n",
    "    [0, 1, 0, 0, 0, 1],  # E -> B, F\n",
    "    [0, 0, 1, 0, 1, 0],  # F -> C, E\n",
    "]\n",
    "\n",
    "print(\"BFS:\", bfs_matrix(matrix, 0))\n"
   ]
  },
  {
   "cell_type": "markdown",
   "metadata": {},
   "source": []
  },
  {
   "cell_type": "code",
   "execution_count": 2,
   "metadata": {},
   "outputs": [
    {
     "name": "stdout",
     "output_type": "stream",
     "text": [
      "DFS (Recursive): [0, 1, 3, 4, 5, 2]\n"
     ]
    }
   ],
   "source": [
    "#DFS\n",
    "def dfs_matrix_recursive(matrix, node, visited=None):\n",
    "    if visited is None:\n",
    "        visited = [False] * len(matrix)\n",
    "    visited[node] = True\n",
    "    dfs_order = [node]\n",
    "    for neighbor, is_connected in enumerate(matrix[node]):\n",
    "        if is_connected and not visited[neighbor]:\n",
    "            dfs_order.extend(dfs_matrix_recursive(matrix, neighbor, visited))\n",
    "    \n",
    "    return dfs_order\n",
    "\n",
    "print(\"DFS (Recursive):\", dfs_matrix_recursive(matrix, 0))\n"
   ]
  }
 ],
 "metadata": {
  "kernelspec": {
   "display_name": "Python 3",
   "language": "python",
   "name": "python3"
  },
  "language_info": {
   "codemirror_mode": {
    "name": "ipython",
    "version": 3
   },
   "file_extension": ".py",
   "mimetype": "text/x-python",
   "name": "python",
   "nbconvert_exporter": "python",
   "pygments_lexer": "ipython3",
   "version": "3.9.6"
  }
 },
 "nbformat": 4,
 "nbformat_minor": 2
}
